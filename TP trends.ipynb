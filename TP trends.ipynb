{
 "cells": [
  {
   "cell_type": "code",
   "execution_count": 3,
   "metadata": {},
   "outputs": [
    {
     "data": {
      "text/html": [
       "<div>\n",
       "<style scoped>\n",
       "    .dataframe tbody tr th:only-of-type {\n",
       "        vertical-align: middle;\n",
       "    }\n",
       "\n",
       "    .dataframe tbody tr th {\n",
       "        vertical-align: top;\n",
       "    }\n",
       "\n",
       "    .dataframe thead th {\n",
       "        text-align: right;\n",
       "    }\n",
       "</style>\n",
       "<table border=\"1\" class=\"dataframe\">\n",
       "  <thead>\n",
       "    <tr style=\"text-align: right;\">\n",
       "      <th></th>\n",
       "      <th>Week</th>\n",
       "      <th>Toilet paper: (United States)</th>\n",
       "      <th>Mask: (United States)</th>\n",
       "      <th>Bread: (United States)</th>\n",
       "      <th>Pajamas: (United States)</th>\n",
       "    </tr>\n",
       "  </thead>\n",
       "  <tbody>\n",
       "    <tr>\n",
       "      <th>0</th>\n",
       "      <td>2020-01-26</td>\n",
       "      <td>1</td>\n",
       "      <td>19</td>\n",
       "      <td>2</td>\n",
       "      <td>2</td>\n",
       "    </tr>\n",
       "    <tr>\n",
       "      <th>1</th>\n",
       "      <td>2020-02-02</td>\n",
       "      <td>&lt;1</td>\n",
       "      <td>12</td>\n",
       "      <td>2</td>\n",
       "      <td>2</td>\n",
       "    </tr>\n",
       "    <tr>\n",
       "      <th>2</th>\n",
       "      <td>2020-02-09</td>\n",
       "      <td>1</td>\n",
       "      <td>10</td>\n",
       "      <td>2</td>\n",
       "      <td>2</td>\n",
       "    </tr>\n",
       "    <tr>\n",
       "      <th>3</th>\n",
       "      <td>2020-02-16</td>\n",
       "      <td>&lt;1</td>\n",
       "      <td>9</td>\n",
       "      <td>2</td>\n",
       "      <td>1</td>\n",
       "    </tr>\n",
       "    <tr>\n",
       "      <th>4</th>\n",
       "      <td>2020-02-23</td>\n",
       "      <td>1</td>\n",
       "      <td>35</td>\n",
       "      <td>2</td>\n",
       "      <td>2</td>\n",
       "    </tr>\n",
       "  </tbody>\n",
       "</table>\n",
       "</div>"
      ],
      "text/plain": [
       "         Week Toilet paper: (United States)  Mask: (United States)  \\\n",
       "0  2020-01-26                             1                     19   \n",
       "1  2020-02-02                            <1                     12   \n",
       "2  2020-02-09                             1                     10   \n",
       "3  2020-02-16                            <1                      9   \n",
       "4  2020-02-23                             1                     35   \n",
       "\n",
       "   Bread: (United States)  Pajamas: (United States)  \n",
       "0                       2                         2  \n",
       "1                       2                         2  \n",
       "2                       2                         2  \n",
       "3                       2                         1  \n",
       "4                       2                         2  "
      ]
     },
     "execution_count": 3,
     "metadata": {},
     "output_type": "execute_result"
    }
   ],
   "source": [
    " # Dependencies and Setup\n",
    "import matplotlib.pyplot as plt\n",
    "import pandas as pd\n",
    "import numpy as np\n",
    "\n",
    "product_data = pd.read_csv('tpmaskbreadpjdata.csv')\n",
    "\n",
    "product_data.head()"
   ]
  },
  {
   "cell_type": "code",
   "execution_count": 8,
   "metadata": {},
   "outputs": [
    {
     "data": {
      "text/plain": [
       "<matplotlib.axes._subplots.AxesSubplot at 0x22d57f838d0>"
      ]
     },
     "execution_count": 8,
     "metadata": {},
     "output_type": "execute_result"
    },
    {
     "data": {
      "image/png": "[encoded data removed]",
      "text/plain": [
       "<Figure size 432x288 with 1 Axes>"
      ]
     },
     "metadata": {
      "needs_background": "light"
     },
     "output_type": "display_data"
    }
   ],
   "source": [
    "#set index as weeks\n",
    "product_data = product_data.set_index(\"Week\")\n",
    "\n",
    "#plot multi line plot\n",
    "\n",
    "product_data.plot()"
   ]
  },
  {
   "cell_type": "code",
   "execution_count": 7,
   "metadata": {},
   "outputs": [
    {
     "data": {
      "text/plain": [
       "([<matplotlib.axis.XTick at 0x22d57f10860>,\n",
       "  <matplotlib.axis.XTick at 0x22d57f10630>,\n",
       "  <matplotlib.axis.XTick at 0x22d57f29c50>,\n",
       "  <matplotlib.axis.XTick at 0x22d57f29080>,\n",
       "  <matplotlib.axis.XTick at 0x22d57f24518>,\n",
       "  <matplotlib.axis.XTick at 0x22d57f1add8>,\n",
       "  <matplotlib.axis.XTick at 0x22d57f1a898>,\n",
       "  <matplotlib.axis.XTick at 0x22d57f1a320>,\n",
       "  <matplotlib.axis.XTick at 0x22d57f10f28>,\n",
       "  <matplotlib.axis.XTick at 0x22d57f107b8>,\n",
       "  <matplotlib.axis.XTick at 0x22d57f10438>,\n",
       "  <matplotlib.axis.XTick at 0x22d57f0cb00>,\n",
       "  <matplotlib.axis.XTick at 0x22d57f0c470>,\n",
       "  <matplotlib.axis.XTick at 0x22d57a74f98>,\n",
       "  <matplotlib.axis.XTick at 0x22d57f104e0>,\n",
       "  <matplotlib.axis.XTick at 0x22d57f1a7b8>,\n",
       "  <matplotlib.axis.XTick at 0x22d57f24ac8>,\n",
       "  <matplotlib.axis.XTick at 0x22d58773c88>,\n",
       "  <matplotlib.axis.XTick at 0x22d58773240>,\n",
       "  <matplotlib.axis.XTick at 0x22d58766b70>,\n",
       "  <matplotlib.axis.XTick at 0x22d587664e0>,\n",
       "  <matplotlib.axis.XTick at 0x22d5875fa58>,\n",
       "  <matplotlib.axis.XTick at 0x22d5875f390>,\n",
       "  <matplotlib.axis.XTick at 0x22d5875f588>,\n",
       "  <matplotlib.axis.XTick at 0x22d5875fac8>,\n",
       "  <matplotlib.axis.XTick at 0x22d57f245f8>,\n",
       "  <matplotlib.axis.XTick at 0x22d58757e10>,\n",
       "  <matplotlib.axis.XTick at 0x22d58757748>,\n",
       "  <matplotlib.axis.XTick at 0x22d58757278>,\n",
       "  <matplotlib.axis.XTick at 0x22d58752940>,\n",
       "  <matplotlib.axis.XTick at 0x22d58752320>,\n",
       "  <matplotlib.axis.XTick at 0x22d58745f28>,\n",
       "  <matplotlib.axis.XTick at 0x22d58745ac8>,\n",
       "  <matplotlib.axis.XTick at 0x22d587527f0>,\n",
       "  <matplotlib.axis.XTick at 0x22d58757ac8>,\n",
       "  <matplotlib.axis.XTick at 0x22d587455c0>,\n",
       "  <matplotlib.axis.XTick at 0x22d587454a8>,\n",
       "  <matplotlib.axis.XTick at 0x22d57beb128>,\n",
       "  <matplotlib.axis.XTick at 0x22d57a87ba8>,\n",
       "  <matplotlib.axis.XTick at 0x22d587414a8>,\n",
       "  <matplotlib.axis.XTick at 0x22d58741828>,\n",
       "  <matplotlib.axis.XTick at 0x22d58741eb8>,\n",
       "  <matplotlib.axis.XTick at 0x22d57b68ef0>,\n",
       "  <matplotlib.axis.XTick at 0x22d57b68208>,\n",
       "  <matplotlib.axis.XTick at 0x22d58741860>,\n",
       "  <matplotlib.axis.XTick at 0x22d576c1c88>,\n",
       "  <matplotlib.axis.XTick at 0x22d57b5a780>,\n",
       "  <matplotlib.axis.XTick at 0x22d57b5a748>,\n",
       "  <matplotlib.axis.XTick at 0x22d57b5a940>,\n",
       "  <matplotlib.axis.XTick at 0x22d57b5a198>,\n",
       "  <matplotlib.axis.XTick at 0x22d57b50f60>],\n",
       " [Text(0, 0, '2020-01-26'),\n",
       "  Text(0, 0, '2020-02-02'),\n",
       "  Text(0, 0, '2020-02-09'),\n",
       "  Text(0, 0, '2020-02-16'),\n",
       "  Text(0, 0, '2020-02-23'),\n",
       "  Text(0, 0, '2020-03-01'),\n",
       "  Text(0, 0, '2020-03-08'),\n",
       "  Text(0, 0, '2020-03-15'),\n",
       "  Text(0, 0, '2020-03-22'),\n",
       "  Text(0, 0, '2020-03-29'),\n",
       "  Text(0, 0, '2020-04-05'),\n",
       "  Text(0, 0, '2020-04-12'),\n",
       "  Text(0, 0, '2020-04-19'),\n",
       "  Text(0, 0, '2020-04-26'),\n",
       "  Text(0, 0, '2020-05-03'),\n",
       "  Text(0, 0, '2020-05-10'),\n",
       "  Text(0, 0, '2020-05-17'),\n",
       "  Text(0, 0, '2020-05-24'),\n",
       "  Text(0, 0, '2020-05-31'),\n",
       "  Text(0, 0, '2020-06-07'),\n",
       "  Text(0, 0, '2020-06-14'),\n",
       "  Text(0, 0, '2020-06-21'),\n",
       "  Text(0, 0, '2020-06-28'),\n",
       "  Text(0, 0, '2020-07-05'),\n",
       "  Text(0, 0, '2020-07-12'),\n",
       "  Text(0, 0, '2020-07-19'),\n",
       "  Text(0, 0, '2020-07-26'),\n",
       "  Text(0, 0, '2020-08-02'),\n",
       "  Text(0, 0, '2020-08-09'),\n",
       "  Text(0, 0, '2020-08-16'),\n",
       "  Text(0, 0, '2020-08-23'),\n",
       "  Text(0, 0, '2020-08-30'),\n",
       "  Text(0, 0, '2020-09-06'),\n",
       "  Text(0, 0, '2020-09-13'),\n",
       "  Text(0, 0, '2020-09-20'),\n",
       "  Text(0, 0, '2020-09-27'),\n",
       "  Text(0, 0, '2020-10-04'),\n",
       "  Text(0, 0, '2020-10-11'),\n",
       "  Text(0, 0, '2020-10-18'),\n",
       "  Text(0, 0, '2020-10-25'),\n",
       "  Text(0, 0, '2020-11-01'),\n",
       "  Text(0, 0, '2020-11-08'),\n",
       "  Text(0, 0, '2020-11-15'),\n",
       "  Text(0, 0, '2020-11-22'),\n",
       "  Text(0, 0, '2020-11-29'),\n",
       "  Text(0, 0, '2020-12-06'),\n",
       "  Text(0, 0, '2020-12-13'),\n",
       "  Text(0, 0, '2020-12-20'),\n",
       "  Text(0, 0, '2020-12-27'),\n",
       "  Text(0, 0, '2021-01-03'),\n",
       "  Text(0, 0, '2021-01-10')])"
      ]
     },
     "execution_count": 7,
     "metadata": {},
     "output_type": "execute_result"
    },
    {
     "data": {
      "image/png": "[encoded data removed]",
      "text/plain": [
       "<Figure size 432x288 with 1 Axes>"
      ]
     },
     "metadata": {
      "needs_background": "light"
     },
     "output_type": "display_data"
    }
   ],
   "source": [
    "plt.plot(product_data['Week'],product_data['Toilet paper: (United States)'],product_data['Mask: (United States)'])\n",
    "x_axis = np.arange(len(product_data))\n",
    "tick_locations = [value for value in x_axis]\n",
    "plt.xticks(tick_locations, product_data['Week'], rotation = 'vertical')"
   ]
  }
 ],
 "metadata": {
  "kernelspec": {
   "display_name": "Python 3",
   "language": "python",
   "name": "python3"
  },
  "language_info": {
   "codemirror_mode": {
    "name": "ipython",
    "version": 3
   },
   "file_extension": ".py",
   "mimetype": "text/x-python",
   "name": "python",
   "nbconvert_exporter": "python",
   "pygments_lexer": "ipython3",
   "version": "3.6.10"
  }
 },
 "nbformat": 4,
 "nbformat_minor": 4
}
