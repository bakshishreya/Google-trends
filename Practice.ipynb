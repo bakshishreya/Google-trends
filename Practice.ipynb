{
 "cells": [
  {
   "cell_type": "code",
   "execution_count": null,
   "metadata": {},
   "outputs": [],
   "source": []
  },
  {
   "cell_type": "code",
   "execution_count": null,
   "metadata": {},
   "outputs": [],
   "source": [
    "!pip install pytrends"
   ]
  },
  {
   "cell_type": "code",
   "execution_count": null,
   "metadata": {},
   "outputs": [],
   "source": [
    "import pandas as pd\n",
    "\n",
    "#request trending topics from Google Trends\n",
    "from pytrends.request import TrendReq\n",
    "\n",
    "pytrend = TrendReq()"
   ]
  },
  {
   "cell_type": "code",
   "execution_count": null,
   "metadata": {},
   "outputs": [],
   "source": [
    "#sample trends Taylor Swift\n",
    "pytrend.build_payload(kw_list=['covid'])\n",
    "\n",
    "#interest by region\n",
    "df = pytrend.interest_by_region()\n",
    "df.sort_values(by='covid',ascending= False).head()"
   ]
  },
  {
   "cell_type": "code",
   "execution_count": null,
   "metadata": {},
   "outputs": [],
   "source": [
    "#sample daily search trends\n",
    "#google hot trends daya\n",
    "dff = pytrend.trending_searches(pn='united_states')\n",
    "dff.head(20)"
   ]
  },
  {
   "cell_type": "code",
   "execution_count": null,
   "metadata": {},
   "outputs": [],
   "source": [
    "#search trends by year\n",
    "dfff = pytrend.top_charts(2020, hl = 'en - US', tz = 300, geo = 'GLOBAL')\n",
    "dfff.head(20)"
   ]
  },
  {
   "cell_type": "code",
   "execution_count": null,
   "metadata": {},
   "outputs": [],
   "source": [
    "# Get Google Keyword Suggestions\n",
    "keywords = pytrend.suggestions(keyword='cricket')\n",
    "dfffff = pd.DataFrame(keywords)\n",
    "dfffff.drop(columns= 'mid')   # This column makes no sense"
   ]
  },
  {
   "cell_type": "code",
   "execution_count": null,
   "metadata": {},
   "outputs": [],
   "source": [
    "# Related Queries\n",
    "\n",
    "pytrend.build_payload(kw_list=['Coronavirus'])\n",
    "\n",
    "# Related Queries, returns a dictionary of dataframes\n",
    "related_queries = pytrend.related_queries()\n",
    "related_queries.values()\n"
   ]
  },
  {
   "cell_type": "code",
   "execution_count": null,
   "metadata": {},
   "outputs": [],
   "source": [
    "#pytrends.get_historical_interest(kw_list, year_start=2018, month_start=1, day_start=1, hour_start=0, year_end=2018, month_end=2, day_end=1, hour_end=0, cat=0, geo='', gprop='', sleep=0)"
   ]
  }
 ],
 "metadata": {
  "kernelspec": {
   "display_name": "Python 3",
   "language": "python",
   "name": "python3"
  },
  "language_info": {
   "codemirror_mode": {
    "name": "ipython",
    "version": 3
   },
   "file_extension": ".py",
   "mimetype": "text/x-python",
   "name": "python",
   "nbconvert_exporter": "python",
   "pygments_lexer": "ipython3",
   "version": "3.6.10"
  }
 },
 "nbformat": 4,
 "nbformat_minor": 4
}
