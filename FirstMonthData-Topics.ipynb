{
 "cells": [
  {
   "cell_type": "code",
   "execution_count": 1,
   "metadata": {},
   "outputs": [
    {
     "data": {
      "text/html": [
       "<div>\n",
       "<style scoped>\n",
       "    .dataframe tbody tr th:only-of-type {\n",
       "        vertical-align: middle;\n",
       "    }\n",
       "\n",
       "    .dataframe tbody tr th {\n",
       "        vertical-align: top;\n",
       "    }\n",
       "\n",
       "    .dataframe thead th {\n",
       "        text-align: right;\n",
       "    }\n",
       "</style>\n",
       "<table border=\"1\" class=\"dataframe\">\n",
       "  <thead>\n",
       "    <tr style=\"text-align: right;\">\n",
       "      <th></th>\n",
       "      <th>Month</th>\n",
       "      <th>Topic</th>\n",
       "      <th>Rank</th>\n",
       "      <th>Country</th>\n",
       "    </tr>\n",
       "  </thead>\n",
       "  <tbody>\n",
       "    <tr>\n",
       "      <th>0</th>\n",
       "      <td>May</td>\n",
       "      <td>Google</td>\n",
       "      <td>100</td>\n",
       "      <td>United States</td>\n",
       "    </tr>\n",
       "    <tr>\n",
       "      <th>1</th>\n",
       "      <td>May</td>\n",
       "      <td>Google Search</td>\n",
       "      <td>97</td>\n",
       "      <td>United States</td>\n",
       "    </tr>\n",
       "    <tr>\n",
       "      <th>2</th>\n",
       "      <td>May</td>\n",
       "      <td>Game</td>\n",
       "      <td>52</td>\n",
       "      <td>United States</td>\n",
       "    </tr>\n",
       "    <tr>\n",
       "      <th>3</th>\n",
       "      <td>May</td>\n",
       "      <td>Coronavirus</td>\n",
       "      <td>47</td>\n",
       "      <td>United States</td>\n",
       "    </tr>\n",
       "    <tr>\n",
       "      <th>4</th>\n",
       "      <td>May</td>\n",
       "      <td>Google Doodle</td>\n",
       "      <td>41</td>\n",
       "      <td>United States</td>\n",
       "    </tr>\n",
       "  </tbody>\n",
       "</table>\n",
       "</div>"
      ],
      "text/plain": [
       "  Month          Topic  Rank        Country\n",
       "0   May         Google   100  United States\n",
       "1   May  Google Search    97  United States\n",
       "2   May           Game    52  United States\n",
       "3   May    Coronavirus    47  United States\n",
       "4   May  Google Doodle    41  United States"
      ]
     },
     "execution_count": 1,
     "metadata": {},
     "output_type": "execute_result"
    }
   ],
   "source": [
    "import pandas as pd\n",
    "import matplotlib.pyplot as plt\n",
    "from matplotlib.pyplot import figure\n",
    "import re\n",
    "\n",
    "US = pd.read_csv(\"Input/US_Topics.csv\")\n",
    "AUS = pd.read_csv(\"Input/AUS_Topics.csv\")\n",
    "JAP = pd.read_csv(\"Input/JAP_Topics.csv\")\n",
    "ENG = pd.read_csv(\"Input/ENG_Topics.csv\")\n",
    "\n",
    "All_Terms_df = pd.DataFrame(US)\n",
    "All_Terms_df[\"Country\"] = \"United States\"\n",
    "AUS_Terms_df = pd.DataFrame(AUS)\n",
    "AUS_Terms_df[\"Country\"] = \"Australia\"\n",
    "JAP_Terms_df = pd.DataFrame(JAP)\n",
    "JAP_Terms_df[\"Country\"] = \"Japan\"\n",
    "ENG_Terms_df = pd.DataFrame(ENG)\n",
    "ENG_Terms_df[\"Country\"] = \"England\"\n",
    "\n",
    "All_Terms_df = All_Terms_df.append(AUS_Terms_df, ignore_index=True)\n",
    "All_Terms_df = All_Terms_df.append(JAP_Terms_df, ignore_index=True)\n",
    "All_Terms_df = All_Terms_df.append(ENG_Terms_df, ignore_index=True)\n",
    "\n",
    "All_Terms_df.head()\n"
   ]
  },
  {
   "cell_type": "markdown",
   "metadata": {},
   "source": [
    "Update the topics to all be coronavirus to see the Top Topics better after running the plots"
   ]
  },
  {
   "cell_type": "code",
   "execution_count": 2,
   "metadata": {},
   "outputs": [
    {
     "data": {
      "text/html": [
       "<div>\n",
       "<style scoped>\n",
       "    .dataframe tbody tr th:only-of-type {\n",
       "        vertical-align: middle;\n",
       "    }\n",
       "\n",
       "    .dataframe tbody tr th {\n",
       "        vertical-align: top;\n",
       "    }\n",
       "\n",
       "    .dataframe thead th {\n",
       "        text-align: right;\n",
       "    }\n",
       "</style>\n",
       "<table border=\"1\" class=\"dataframe\">\n",
       "  <thead>\n",
       "    <tr style=\"text-align: right;\">\n",
       "      <th></th>\n",
       "      <th>Month</th>\n",
       "      <th>Topic</th>\n",
       "      <th>Rank</th>\n",
       "      <th>Country</th>\n",
       "    </tr>\n",
       "  </thead>\n",
       "  <tbody>\n",
       "    <tr>\n",
       "      <th>0</th>\n",
       "      <td>May</td>\n",
       "      <td>Google</td>\n",
       "      <td>100</td>\n",
       "      <td>United States</td>\n",
       "    </tr>\n",
       "    <tr>\n",
       "      <th>1</th>\n",
       "      <td>May</td>\n",
       "      <td>Google Search</td>\n",
       "      <td>97</td>\n",
       "      <td>United States</td>\n",
       "    </tr>\n",
       "    <tr>\n",
       "      <th>2</th>\n",
       "      <td>May</td>\n",
       "      <td>Game</td>\n",
       "      <td>52</td>\n",
       "      <td>United States</td>\n",
       "    </tr>\n",
       "    <tr>\n",
       "      <th>3</th>\n",
       "      <td>May</td>\n",
       "      <td>Coronavirus</td>\n",
       "      <td>47</td>\n",
       "      <td>United States</td>\n",
       "    </tr>\n",
       "    <tr>\n",
       "      <th>4</th>\n",
       "      <td>May</td>\n",
       "      <td>Google Doodle</td>\n",
       "      <td>41</td>\n",
       "      <td>United States</td>\n",
       "    </tr>\n",
       "  </tbody>\n",
       "</table>\n",
       "</div>"
      ],
      "text/plain": [
       "  Month          Topic  Rank        Country\n",
       "0   May         Google   100  United States\n",
       "1   May  Google Search    97  United States\n",
       "2   May           Game    52  United States\n",
       "3   May    Coronavirus    47  United States\n",
       "4   May  Google Doodle    41  United States"
      ]
     },
     "execution_count": 2,
     "metadata": {},
     "output_type": "execute_result"
    }
   ],
   "source": [
    "All_Terms_df[\"Topic\"] = All_Terms_df[\"Topic\"].replace(['Coronavirus disease 2019','Severe acute respiratory syndrome coronavirus 2'],'Coronavirus')\n",
    "All_Terms_df.head()"
   ]
  },
  {
   "cell_type": "markdown",
   "metadata": {},
   "source": [
    "See all the data in order of rank, regardless of month or country"
   ]
  },
  {
   "cell_type": "code",
   "execution_count": 3,
   "metadata": {},
   "outputs": [
    {
     "data": {
      "text/html": [
       "<div>\n",
       "<style scoped>\n",
       "    .dataframe tbody tr th:only-of-type {\n",
       "        vertical-align: middle;\n",
       "    }\n",
       "\n",
       "    .dataframe tbody tr th {\n",
       "        vertical-align: top;\n",
       "    }\n",
       "\n",
       "    .dataframe thead th {\n",
       "        text-align: right;\n",
       "    }\n",
       "</style>\n",
       "<table border=\"1\" class=\"dataframe\">\n",
       "  <thead>\n",
       "    <tr style=\"text-align: right;\">\n",
       "      <th></th>\n",
       "      <th>Month</th>\n",
       "      <th>Topic</th>\n",
       "      <th>Rank</th>\n",
       "      <th>Country</th>\n",
       "    </tr>\n",
       "  </thead>\n",
       "  <tbody>\n",
       "    <tr>\n",
       "      <th>0</th>\n",
       "      <td>May</td>\n",
       "      <td>Google</td>\n",
       "      <td>100</td>\n",
       "      <td>United States</td>\n",
       "    </tr>\n",
       "    <tr>\n",
       "      <th>150</th>\n",
       "      <td>Jun</td>\n",
       "      <td>Protest</td>\n",
       "      <td>100</td>\n",
       "      <td>United States</td>\n",
       "    </tr>\n",
       "    <tr>\n",
       "      <th>275</th>\n",
       "      <td>Nov</td>\n",
       "      <td>2020</td>\n",
       "      <td>100</td>\n",
       "      <td>United States</td>\n",
       "    </tr>\n",
       "    <tr>\n",
       "      <th>824</th>\n",
       "      <td>Jul</td>\n",
       "      <td>Weather</td>\n",
       "      <td>100</td>\n",
       "      <td>Japan</td>\n",
       "    </tr>\n",
       "    <tr>\n",
       "      <th>1074</th>\n",
       "      <td>Jun</td>\n",
       "      <td>United Kingdom</td>\n",
       "      <td>100</td>\n",
       "      <td>England</td>\n",
       "    </tr>\n",
       "    <tr>\n",
       "      <th>...</th>\n",
       "      <td>...</td>\n",
       "      <td>...</td>\n",
       "      <td>...</td>\n",
       "      <td>...</td>\n",
       "    </tr>\n",
       "    <tr>\n",
       "      <th>74</th>\n",
       "      <td>Jan</td>\n",
       "      <td>Texas</td>\n",
       "      <td>16</td>\n",
       "      <td>United States</td>\n",
       "    </tr>\n",
       "    <tr>\n",
       "      <th>896</th>\n",
       "      <td>Sep</td>\n",
       "      <td>Film</td>\n",
       "      <td>16</td>\n",
       "      <td>Japan</td>\n",
       "    </tr>\n",
       "    <tr>\n",
       "      <th>897</th>\n",
       "      <td>Sep</td>\n",
       "      <td>Woman</td>\n",
       "      <td>16</td>\n",
       "      <td>Japan</td>\n",
       "    </tr>\n",
       "    <tr>\n",
       "      <th>898</th>\n",
       "      <td>Sep</td>\n",
       "      <td>Shop</td>\n",
       "      <td>16</td>\n",
       "      <td>Japan</td>\n",
       "    </tr>\n",
       "    <tr>\n",
       "      <th>848</th>\n",
       "      <td>Jul</td>\n",
       "      <td>Share price</td>\n",
       "      <td>15</td>\n",
       "      <td>Japan</td>\n",
       "    </tr>\n",
       "  </tbody>\n",
       "</table>\n",
       "<p>1199 rows × 4 columns</p>\n",
       "</div>"
      ],
      "text/plain": [
       "     Month           Topic  Rank        Country\n",
       "0      May          Google   100  United States\n",
       "150    Jun         Protest   100  United States\n",
       "275    Nov            2020   100  United States\n",
       "824    Jul         Weather   100          Japan\n",
       "1074   Jun  United Kingdom   100        England\n",
       "...    ...             ...   ...            ...\n",
       "74     Jan           Texas    16  United States\n",
       "896    Sep            Film    16          Japan\n",
       "897    Sep           Woman    16          Japan\n",
       "898    Sep            Shop    16          Japan\n",
       "848    Jul     Share price    15          Japan\n",
       "\n",
       "[1199 rows x 4 columns]"
      ]
     },
     "execution_count": 3,
     "metadata": {},
     "output_type": "execute_result"
    }
   ],
   "source": [
    "All_Terms_df.sort_values(\"Rank\", ascending=False)"
   ]
  },
  {
   "cell_type": "markdown",
   "metadata": {},
   "source": [
    "Get all of the rows with 90 or more Rank to see what kind of data it was"
   ]
  },
  {
   "cell_type": "code",
   "execution_count": 4,
   "metadata": {},
   "outputs": [
    {
     "data": {
      "text/html": [
       "<div>\n",
       "<style scoped>\n",
       "    .dataframe tbody tr th:only-of-type {\n",
       "        vertical-align: middle;\n",
       "    }\n",
       "\n",
       "    .dataframe tbody tr th {\n",
       "        vertical-align: top;\n",
       "    }\n",
       "\n",
       "    .dataframe thead th {\n",
       "        text-align: right;\n",
       "    }\n",
       "</style>\n",
       "<table border=\"1\" class=\"dataframe\">\n",
       "  <thead>\n",
       "    <tr style=\"text-align: right;\">\n",
       "      <th></th>\n",
       "      <th>Month</th>\n",
       "      <th>Topic</th>\n",
       "      <th>Rank</th>\n",
       "      <th>Country</th>\n",
       "    </tr>\n",
       "  </thead>\n",
       "  <tbody>\n",
       "    <tr>\n",
       "      <th>0</th>\n",
       "      <td>May</td>\n",
       "      <td>Google</td>\n",
       "      <td>100</td>\n",
       "      <td>United States</td>\n",
       "    </tr>\n",
       "    <tr>\n",
       "      <th>1</th>\n",
       "      <td>May</td>\n",
       "      <td>Google Search</td>\n",
       "      <td>97</td>\n",
       "      <td>United States</td>\n",
       "    </tr>\n",
       "    <tr>\n",
       "      <th>25</th>\n",
       "      <td>Dec</td>\n",
       "      <td>Google</td>\n",
       "      <td>100</td>\n",
       "      <td>United States</td>\n",
       "    </tr>\n",
       "    <tr>\n",
       "      <th>26</th>\n",
       "      <td>Dec</td>\n",
       "      <td>Weather</td>\n",
       "      <td>100</td>\n",
       "      <td>United States</td>\n",
       "    </tr>\n",
       "    <tr>\n",
       "      <th>27</th>\n",
       "      <td>Dec</td>\n",
       "      <td>Google Search</td>\n",
       "      <td>100</td>\n",
       "      <td>United States</td>\n",
       "    </tr>\n",
       "    <tr>\n",
       "      <th>...</th>\n",
       "      <td>...</td>\n",
       "      <td>...</td>\n",
       "      <td>...</td>\n",
       "      <td>...</td>\n",
       "    </tr>\n",
       "    <tr>\n",
       "      <th>1074</th>\n",
       "      <td>Jun</td>\n",
       "      <td>United Kingdom</td>\n",
       "      <td>100</td>\n",
       "      <td>England</td>\n",
       "    </tr>\n",
       "    <tr>\n",
       "      <th>1099</th>\n",
       "      <td>Mar</td>\n",
       "      <td>United Kingdom</td>\n",
       "      <td>100</td>\n",
       "      <td>England</td>\n",
       "    </tr>\n",
       "    <tr>\n",
       "      <th>1124</th>\n",
       "      <td>May</td>\n",
       "      <td>United Kingdom</td>\n",
       "      <td>100</td>\n",
       "      <td>England</td>\n",
       "    </tr>\n",
       "    <tr>\n",
       "      <th>1149</th>\n",
       "      <td>Nov</td>\n",
       "      <td>United Kingdom</td>\n",
       "      <td>100</td>\n",
       "      <td>England</td>\n",
       "    </tr>\n",
       "    <tr>\n",
       "      <th>1174</th>\n",
       "      <td>Oct</td>\n",
       "      <td>United Kingdom</td>\n",
       "      <td>100</td>\n",
       "      <td>England</td>\n",
       "    </tr>\n",
       "  </tbody>\n",
       "</table>\n",
       "<p>64 rows × 4 columns</p>\n",
       "</div>"
      ],
      "text/plain": [
       "     Month           Topic  Rank        Country\n",
       "0      May          Google   100  United States\n",
       "1      May   Google Search    97  United States\n",
       "25     Dec          Google   100  United States\n",
       "26     Dec         Weather   100  United States\n",
       "27     Dec   Google Search   100  United States\n",
       "...    ...             ...   ...            ...\n",
       "1074   Jun  United Kingdom   100        England\n",
       "1099   Mar  United Kingdom   100        England\n",
       "1124   May  United Kingdom   100        England\n",
       "1149   Nov  United Kingdom   100        England\n",
       "1174   Oct  United Kingdom   100        England\n",
       "\n",
       "[64 rows x 4 columns]"
      ]
     },
     "execution_count": 4,
     "metadata": {},
     "output_type": "execute_result"
    }
   ],
   "source": [
    "Rank_100 = All_Terms_df[All_Terms_df[\"Rank\"] >= 90]\n",
    "Rank_100"
   ]
  },
  {
   "cell_type": "markdown",
   "metadata": {},
   "source": [
    "The next 4 steps are the graphs to show the above table for each country."
   ]
  },
  {
   "cell_type": "code",
   "execution_count": 5,
   "metadata": {},
   "outputs": [
    {
     "data": {
      "image/png": "[encoded data removed]",
      "text/plain": [
       "<Figure size 720x360 with 1 Axes>"
      ]
     },
     "metadata": {
      "needs_background": "light"
     },
     "output_type": "display_data"
    }
   ],
   "source": [
    "US_Terms_df = All_Terms_df[All_Terms_df[\"Country\"] == 'United States'] \n",
    "US_Terms_df_Top = US_Terms_df[US_Terms_df[\"Rank\"]>=90]\n",
    "US_Terms_df_Top_grouped = US_Terms_df_Top.groupby([\"Topic\"]).count().sort_values(\"Rank\", ascending=False)\n",
    "plt.figure(figsize=(10,5))\n",
    "plt.bar(US_Terms_df_Top_grouped.index, US_Terms_df_Top_grouped[\"Rank\"], color='r', alpha=0.5)\n",
    "plt.xticks(rotation='vertical', fontsize=10)\n",
    "plt.ylabel(\"Count\")\n",
    "plt.title(\"Number of times the Term was ranked 90 or over: United States\")\n",
    "plt.show()"
   ]
  },
  {
   "cell_type": "code",
   "execution_count": 6,
   "metadata": {},
   "outputs": [
    {
     "data": {
      "image/png": "[encoded data removed]",
      "text/plain": [
       "<Figure size 720x360 with 1 Axes>"
      ]
     },
     "metadata": {
      "needs_background": "light"
     },
     "output_type": "display_data"
    }
   ],
   "source": [
    "AUS_Terms_df = All_Terms_df[All_Terms_df[\"Country\"] == 'Australia'] \n",
    "AUS_Terms_df_Top = AUS_Terms_df[AUS_Terms_df[\"Rank\"]>=90]\n",
    "AUS_Terms_df_Top_grouped = AUS_Terms_df_Top.groupby([\"Topic\"]).count().sort_values(\"Rank\", ascending=False)\n",
    "plt.figure(figsize=(10,5))\n",
    "plt.bar(AUS_Terms_df_Top_grouped.index, AUS_Terms_df_Top_grouped[\"Rank\"], color='g', alpha=0.5)\n",
    "plt.xticks(rotation='vertical', fontsize=10)\n",
    "plt.ylabel(\"Count\")\n",
    "plt.title(\"Number of times the Term was ranked 90 or over: Australia\")\n",
    "plt.show()"
   ]
  },
  {
   "cell_type": "code",
   "execution_count": 7,
   "metadata": {},
   "outputs": [
    {
     "data": {
      "image/png": "[encoded data removed]",
      "text/plain": [
       "<Figure size 720x360 with 1 Axes>"
      ]
     },
     "metadata": {
      "needs_background": "light"
     },
     "output_type": "display_data"
    }
   ],
   "source": [
    "JAP_Terms_df = All_Terms_df[All_Terms_df[\"Country\"] == 'Japan'] \n",
    "JAP_Terms_df_Top = JAP_Terms_df[JAP_Terms_df[\"Rank\"]>=90]\n",
    "JAP_Terms_df_Top_grouped = JAP_Terms_df_Top.groupby([\"Topic\"]).count().sort_values(\"Rank\", ascending=False)\n",
    "plt.figure(figsize=(10,5))\n",
    "plt.bar(JAP_Terms_df_Top_grouped.index, JAP_Terms_df_Top_grouped[\"Rank\"], color='b', alpha=0.5)\n",
    "plt.xticks(rotation='vertical', fontsize=10)\n",
    "plt.ylabel(\"Count\")\n",
    "plt.title(\"Number of times the Term was ranked 90 or over: Japan\")\n",
    "plt.show()"
   ]
  },
  {
   "cell_type": "code",
   "execution_count": 8,
   "metadata": {},
   "outputs": [
    {
     "data": {
      "image/png": "[encoded data removed]",
      "text/plain": [
       "<Figure size 720x360 with 1 Axes>"
      ]
     },
     "metadata": {
      "needs_background": "light"
     },
     "output_type": "display_data"
    }
   ],
   "source": [
    "ENG_Terms_df = All_Terms_df[All_Terms_df[\"Country\"] == 'England'] \n",
    "ENG_Terms_df_Top = ENG_Terms_df[ENG_Terms_df[\"Rank\"]>=90]\n",
    "ENG_Terms_df_Top_grouped = ENG_Terms_df_Top.groupby([\"Topic\"]).count().sort_values(\"Rank\", ascending=False)\n",
    "plt.figure(figsize=(10,5))\n",
    "plt.bar(ENG_Terms_df_Top_grouped.index, ENG_Terms_df_Top_grouped[\"Rank\"], color='y', alpha=0.5)\n",
    "plt.xticks(rotation='vertical', fontsize=10)\n",
    "plt.ylabel(\"Count\")\n",
    "plt.title(\"Number of times the Term was ranked 90 or over: England\")\n",
    "plt.show()"
   ]
  }
 ],
 "metadata": {
  "kernelspec": {
   "display_name": "Python [conda env:PythonData] *",
   "language": "python",
   "name": "conda-env-PythonData-py"
  },
  "language_info": {
   "codemirror_mode": {
    "name": "ipython",
    "version": 3
   },
   "file_extension": ".py",
   "mimetype": "text/x-python",
   "name": "python",
   "nbconvert_exporter": "python",
   "pygments_lexer": "ipython3",
   "version": "3.6.10"
  }
 },
 "nbformat": 4,
 "nbformat_minor": 4
}
